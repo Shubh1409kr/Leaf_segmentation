{
 "cells": [
  {
   "cell_type": "code",
   "execution_count": null,
   "metadata": {},
   "outputs": [],
   "source": [
    "## install packages\n",
    "import subprocess\n",
    "import sys\n",
    "\n",
    "def install(package):\n",
    "    subprocess.call([sys.executable, \"-m\", \"pip\", \"install\", package])\n",
    "\n",
    "\n",
    "install('ultralytics==8.2.51')"
   ]
  },
  {
   "cell_type": "code",
   "execution_count": null,
   "metadata": {},
   "outputs": [],
   "source": [
    "from ultralytics import YOLO\n",
    "import matplotlib.pyplot as plt\n",
    "import cv2\n",
    "import numpy as np\n",
    "import os\n",
    "from tqdm import tqdm\n"
   ]
  },
  {
   "cell_type": "code",
   "execution_count": null,
   "metadata": {},
   "outputs": [],
   "source": [
    "# Input:\n",
    "test_data_folder = r'C:\\Users\\skmmg\\Downloads\\Test_data'\n",
    "\n",
    "# Output:\n",
    "output_folder = 'Test_results'\n",
    "\n",
    "os.makedirs(output_folder, exist_ok=True)"
   ]
  },
  {
   "cell_type": "code",
   "execution_count": null,
   "metadata": {},
   "outputs": [],
   "source": [
    "def crop_image(img, desired_shape):\n",
    "    \n",
    "    crop1_start = int((img.shape[0] - desired_shape[0])/2)  \n",
    "    crop1_end =  img.shape[0] - desired_shape[0] - crop1_start\n",
    "\n",
    "    crop2_start = int((img.shape[1] - desired_shape[1])/2)\n",
    "    crop2_end =  img.shape[1] - desired_shape[1] - crop2_start\n",
    "\n",
    "    pad = [[crop1_start,crop1_end], [crop2_start,crop2_end]]\n",
    "\n",
    "    if crop1_end < 1:\n",
    "        crop1_end = -img.shape[0]\n",
    "\n",
    "    if crop2_end < 1:\n",
    "        crop2_end = -img.shape[1]\n",
    "    \n",
    "    new_image = img[crop1_start:-crop1_end, crop2_start: -crop2_end,:]    \n",
    "    return new_image, pad\n",
    "\n",
    "\n",
    "def combine_masks(masks):\n",
    "   \n",
    "  # Create a blank image\n",
    "   prediction = np.zeros(masks.shape[1:])\n",
    "   for i in range(masks.shape[0]):\n",
    "    negative_pred = (1 - prediction.astype(bool)).astype(bool)\n",
    "    points_to_add = negative_pred*(masks[i] > 0)\n",
    "    prediction = prediction+ (i+1) * points_to_add\n",
    "   return prediction\n",
    "\n",
    "def remove_small_overlapping_masks(mask_cpu, overlap_threshold = 0.8):\n",
    "\n",
    "    masks_size = [mask_cpu[i,:,:].sum() for i in range(mask_cpu.shape[0])]\n",
    "    overlap_matrix = np.zeros((mask_cpu.shape[0],mask_cpu.shape[0] ))\n",
    "    masks_to_remove = []\n",
    "\n",
    "    for i in range(mask_cpu.shape[0]):\n",
    "        for j in range(mask_cpu.shape[0]):\n",
    "            overlap_matrix[i,j] = (mask_cpu[i]*mask_cpu[j]).sum()/ mask_cpu[i].sum()\n",
    "            if i==j:\n",
    "                overlap_matrix[i,j]  = 0\n",
    "\n",
    "    high_overlap_idx = np.where(overlap_matrix> overlap_threshold)\n",
    "\n",
    "    for i in range(len(high_overlap_idx[0])):\n",
    "        if masks_size[high_overlap_idx[0][i]] >  masks_size[high_overlap_idx[1][i]]:\n",
    "            masks_to_remove.append(high_overlap_idx[1][i])\n",
    "        else:\n",
    "            masks_to_remove.append(high_overlap_idx[0][i])\n",
    "\n",
    "    new_masks = np.delete(mask_cpu, masks_to_remove, axis=0)\n",
    "    removed_masks = mask_cpu[masks_to_remove]\n",
    "    print(mask_cpu.shape[0], new_masks.shape[0], removed_masks.shape[0])\n",
    "    return new_masks,removed_masks"
   ]
  },
  {
   "cell_type": "code",
   "execution_count": null,
   "metadata": {},
   "outputs": [],
   "source": [
    "test_imgs = [img for img in os.listdir(test_data_folder) if '.png' in img]\n",
    "model= YOLO(\"Seg_model_ep200.pt\")"
   ]
  },
  {
   "cell_type": "code",
   "execution_count": null,
   "metadata": {},
   "outputs": [],
   "source": [
    "model_output_shape = (896, 928)"
   ]
  },
  {
   "cell_type": "code",
   "execution_count": null,
   "metadata": {},
   "outputs": [],
   "source": [
    "for img_name in tqdm(test_imgs):\n",
    "    \n",
    "    image_path = os.path.join(test_data_folder,img_name)\n",
    "    img = cv2.imread(image_path)\n",
    "    \n",
    "\n",
    "    croped_image, pads = crop_image(img, model_output_shape)\n",
    "\n",
    "    results1 =  model.predict(croped_image)\n",
    "    masks = results1[0].masks.data\n",
    "    mask_cpu = masks.cpu().numpy()\n",
    "\n",
    "    masks_resized = np.array([ np.pad(mask, pads, 'constant', constant_values=0) for mask in mask_cpu])\n",
    "\n",
    "    masks_processed, removed = remove_small_overlapping_masks(masks_resized, overlap_threshold=0.8)\n",
    "    predicted_image = np.zeros(masks_processed.shape[1:3])\n",
    "    predicted_image =  combine_masks(masks_processed)\n",
    "    \n",
    "    plt.imshow(predicted_image)\n",
    "    plt.savefig(os.path.join(output_folder,img_name))\n",
    "    "
   ]
  },
  {
   "cell_type": "code",
   "execution_count": null,
   "metadata": {},
   "outputs": [],
   "source": [
    "for i in range(masks_processed.shape[0]+1):\n",
    "    original = img\n",
    "    original[:,:,2] = np.zeros(img.shape[:2])\n",
    "    original[:,:,2] = 255*(predicted_image==i).astype(int)\n",
    "    plt.figure()\n",
    "    plt.imshow(original)\n"
   ]
  },
  {
   "cell_type": "code",
   "execution_count": null,
   "metadata": {},
   "outputs": [],
   "source": []
  }
 ],
 "metadata": {
  "kernelspec": {
   "display_name": "base",
   "language": "python",
   "name": "python3"
  },
  "language_info": {
   "codemirror_mode": {
    "name": "ipython",
    "version": 3
   },
   "file_extension": ".py",
   "mimetype": "text/x-python",
   "name": "python",
   "nbconvert_exporter": "python",
   "pygments_lexer": "ipython3",
   "version": "3.10.11"
  }
 },
 "nbformat": 4,
 "nbformat_minor": 2
}
