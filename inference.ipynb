{
 "cells": [
  {
   "cell_type": "code",
   "execution_count": 2,
   "metadata": {},
   "outputs": [],
   "source": [
    "## install packages\n",
    "import subprocess\n",
    "import sys\n",
    "\n",
    "def install(package):\n",
    "    subprocess.call([sys.executable, \"-m\", \"pip\", \"install\", package])\n",
    "\n",
    "install('cv2')\n",
    "install('ultralytics')\n",
    "install('matplotlib')"
   ]
  },
  {
   "cell_type": "code",
   "execution_count": 23,
   "metadata": {},
   "outputs": [],
   "source": [
    "from ultralytics import YOLO\n",
    "import matplotlib.pyplot as plt\n",
    "import cv2\n",
    "import numpy as np\n",
    "import os\n",
    "from tqdm import tqdm\n",
    "import pandas as pd\n",
    "import random"
   ]
  },
  {
   "cell_type": "code",
   "execution_count": 33,
   "metadata": {},
   "outputs": [],
   "source": [
    "# Input:\n",
    "test_data_folder = r'C:\\Users\\skmmg\\Downloads\\Test_data'\n",
    "\n",
    "# Output:\n",
    "output_folder = 'Test_results'\n",
    "\n",
    "os.makedirs(output_folder, exist_ok=True)"
   ]
  },
  {
   "cell_type": "code",
   "execution_count": 29,
   "metadata": {},
   "outputs": [],
   "source": [
    "def crop_image(img, desired_shape):\n",
    "    \n",
    "    crop1_start = int((img.shape[0] - desired_shape[0])/2)  \n",
    "    crop1_end =  img.shape[0] - desired_shape[0] - crop1_start\n",
    "\n",
    "    crop2_start = int((img.shape[1] - desired_shape[1])/2)\n",
    "    crop2_end =  img.shape[1] - desired_shape[1] - crop2_start\n",
    "\n",
    "    pad = [[crop1_start,crop1_end], [crop2_start,crop2_end]]\n",
    "\n",
    "    if crop1_end < 1:\n",
    "        crop1_end = -img.shape[0]\n",
    "\n",
    "    if crop2_end < 1:\n",
    "        crop2_end = -img.shape[1]\n",
    "    \n",
    "    new_image = img[crop1_start:-crop1_end, crop2_start: -crop2_end,:]    \n",
    "    return new_image, pad\n",
    "\n",
    "\n",
    "def combine_masks(masks):\n",
    "  # Create a blank image\n",
    "  combined_mask = np.zeros((masks.shape[1], masks.shape[2], 3), dtype=np.uint8)\n",
    "\n",
    "  # Generate a list of random colors\n",
    "  colors = []\n",
    "  for _ in range(len(masks)):\n",
    "    colors.append((random.randint(5, 255), random.randint(5, 255), random.randint(5, 255)))\n",
    "\n",
    "  # Assign a color to each mask and draw it on the combined mask\n",
    "  for i, mask in enumerate(masks):\n",
    "    combined_mask[:,:,0] = combined_mask[:,:,0]+ colors[i][0]*mask\n",
    "    combined_mask[:,:,1] = combined_mask[:,:,1]+ colors[i][1]*mask\n",
    "    combined_mask[:,:,2] = combined_mask[:,:,2]+ colors[i][2]*mask\n",
    "\n",
    "  return combined_mask\n",
    "\n",
    "def remove_small_overlapping_masks(mask_cpu, overlap_threshold = 0.8):\n",
    "\n",
    "    masks_size = [mask_cpu[i,:,:].sum() for i in range(mask_cpu.shape[0])]\n",
    "    overlap_matrix = np.zeros((mask_cpu.shape[0],mask_cpu.shape[0] ))\n",
    "    masks_to_remove = []\n",
    "\n",
    "    for i in range(mask_cpu.shape[0]):\n",
    "        for j in range(mask_cpu.shape[0]):\n",
    "            overlap_matrix[i,j] = (mask_cpu[i]*mask_cpu[j]).sum()/ mask_cpu[i].sum()\n",
    "            if i==j:\n",
    "                overlap_matrix[i,j]  = 0\n",
    "\n",
    "    high_overlap_idx = np.where(overlap_matrix> overlap_threshold)\n",
    "\n",
    "    for i in range(len(high_overlap_idx[0])):\n",
    "        if masks_size[high_overlap_idx[0][i]] >  masks_size[high_overlap_idx[1][i]]:\n",
    "            masks_to_remove.append(high_overlap_idx[1][i])\n",
    "        else:\n",
    "            masks_to_remove.append(high_overlap_idx[0][i])\n",
    "\n",
    "    new_masks = np.delete(mask_cpu, masks_to_remove, axis=0)\n",
    "    removed_masks = mask_cpu[masks_to_remove]\n",
    "    print(mask_cpu.shape[0], new_masks.shape[0], removed_masks.shape[0])\n",
    "    return new_masks,removed_masks"
   ]
  },
  {
   "cell_type": "code",
   "execution_count": 26,
   "metadata": {},
   "outputs": [],
   "source": [
    "test_imgs = [img for img in os.listdir(test_data_folder) if '.png' in img]\n",
    "model= YOLO(\"Seg_model_ep200.pt\")"
   ]
  },
  {
   "cell_type": "code",
   "execution_count": 27,
   "metadata": {},
   "outputs": [],
   "source": [
    "model_output_shape = (896, 928)"
   ]
  },
  {
   "cell_type": "code",
   "execution_count": 35,
   "metadata": {},
   "outputs": [
    {
     "name": "stderr",
     "output_type": "stream",
     "text": [
      "  0%|          | 0/68 [00:00<?, ?it/s]"
     ]
    },
    {
     "name": "stdout",
     "output_type": "stream",
     "text": [
      "\n",
      "0: 896x928 59 leafs, 1156.3ms\n",
      "Speed: 21.1ms preprocess, 1156.3ms inference, 55.1ms postprocess per image at shape (1, 3, 896, 928)\n"
     ]
    },
    {
     "name": "stderr",
     "output_type": "stream",
     "text": [
      "C:\\Users\\skmmg\\AppData\\Local\\Temp\\ipykernel_624\\1107494828.py:46: RuntimeWarning: invalid value encountered in scalar divide\n",
      "  overlap_matrix[i,j] = (mask_cpu[i]*mask_cpu[j]).sum()/ mask_cpu[i].sum()\n"
     ]
    },
    {
     "name": "stdout",
     "output_type": "stream",
     "text": [
      "59 47 17\n"
     ]
    },
    {
     "name": "stderr",
     "output_type": "stream",
     "text": [
      "  1%|▏         | 1/68 [00:25<28:26, 25.48s/it]"
     ]
    },
    {
     "name": "stdout",
     "output_type": "stream",
     "text": [
      "(896, 941, 3) (896, 941, 3)\n",
      "\n",
      "0: 896x928 52 leafs, 1157.3ms\n",
      "Speed: 20.0ms preprocess, 1157.3ms inference, 50.0ms postprocess per image at shape (1, 3, 896, 928)\n",
      "52 46 16\n"
     ]
    },
    {
     "name": "stderr",
     "output_type": "stream",
     "text": [
      "  3%|▎         | 2/68 [00:41<21:47, 19.81s/it]"
     ]
    },
    {
     "name": "stdout",
     "output_type": "stream",
     "text": [
      "(896, 941, 3) (896, 941, 3)\n",
      "\n",
      "0: 896x928 47 leafs, 1083.0ms\n",
      "Speed: 23.0ms preprocess, 1083.0ms inference, 45.0ms postprocess per image at shape (1, 3, 896, 928)\n",
      "47 39 13\n"
     ]
    },
    {
     "name": "stderr",
     "output_type": "stream",
     "text": [
      "  4%|▍         | 3/68 [00:54<18:13, 16.83s/it]"
     ]
    },
    {
     "name": "stdout",
     "output_type": "stream",
     "text": [
      "(896, 941, 3) (896, 941, 3)\n",
      "\n",
      "0: 896x928 42 leafs, 1200.1ms\n",
      "Speed: 22.0ms preprocess, 1200.1ms inference, 39.0ms postprocess per image at shape (1, 3, 896, 928)\n",
      "42 36 7\n"
     ]
    },
    {
     "name": "stderr",
     "output_type": "stream",
     "text": [
      "  6%|▌         | 4/68 [01:06<15:45, 14.77s/it]"
     ]
    },
    {
     "name": "stdout",
     "output_type": "stream",
     "text": [
      "(896, 941, 3) (896, 941, 3)\n",
      "\n",
      "0: 896x928 30 leafs, 1074.9ms\n",
      "Speed: 20.0ms preprocess, 1074.9ms inference, 29.6ms postprocess per image at shape (1, 3, 896, 928)\n",
      "30 27 4\n"
     ]
    },
    {
     "name": "stderr",
     "output_type": "stream",
     "text": [
      "  7%|▋         | 5/68 [01:13<12:37, 12.03s/it]"
     ]
    },
    {
     "name": "stdout",
     "output_type": "stream",
     "text": [
      "(896, 941, 3) (896, 941, 3)\n",
      "\n",
      "0: 896x928 52 leafs, 1124.2ms\n",
      "Speed: 18.4ms preprocess, 1124.2ms inference, 49.8ms postprocess per image at shape (1, 3, 896, 928)\n",
      "52 45 8\n"
     ]
    },
    {
     "name": "stderr",
     "output_type": "stream",
     "text": [
      "  9%|▉         | 6/68 [01:28<13:27, 13.02s/it]"
     ]
    },
    {
     "name": "stdout",
     "output_type": "stream",
     "text": [
      "(896, 941, 3) (896, 941, 3)\n",
      "\n",
      "0: 896x928 58 leafs, 1079.8ms\n",
      "Speed: 20.1ms preprocess, 1079.8ms inference, 56.1ms postprocess per image at shape (1, 3, 896, 928)\n",
      "58 52 6\n"
     ]
    },
    {
     "name": "stderr",
     "output_type": "stream",
     "text": [
      " 10%|█         | 7/68 [01:46<14:52, 14.63s/it]"
     ]
    },
    {
     "name": "stdout",
     "output_type": "stream",
     "text": [
      "(896, 941, 3) (896, 941, 3)\n",
      "\n",
      "0: 896x928 50 leafs, 1126.0ms\n",
      "Speed: 25.1ms preprocess, 1126.0ms inference, 46.0ms postprocess per image at shape (1, 3, 896, 928)\n",
      "50 49 1\n"
     ]
    },
    {
     "name": "stderr",
     "output_type": "stream",
     "text": [
      " 12%|█▏        | 8/68 [02:00<14:30, 14.51s/it]"
     ]
    },
    {
     "name": "stdout",
     "output_type": "stream",
     "text": [
      "(896, 941, 3) (896, 941, 3)\n",
      "\n",
      "0: 896x928 39 leafs, 1116.6ms\n",
      "Speed: 20.8ms preprocess, 1116.6ms inference, 39.1ms postprocess per image at shape (1, 3, 896, 928)\n",
      "39 29 16\n"
     ]
    },
    {
     "name": "stderr",
     "output_type": "stream",
     "text": [
      " 13%|█▎        | 9/68 [02:10<12:54, 13.13s/it]"
     ]
    },
    {
     "name": "stdout",
     "output_type": "stream",
     "text": [
      "(896, 941, 3) (896, 941, 3)\n",
      "\n",
      "0: 896x928 35 leafs, 1199.8ms\n",
      "Speed: 22.6ms preprocess, 1199.8ms inference, 36.0ms postprocess per image at shape (1, 3, 896, 928)\n",
      "35 27 10\n"
     ]
    },
    {
     "name": "stderr",
     "output_type": "stream",
     "text": [
      " 15%|█▍        | 10/68 [02:20<11:47, 12.20s/it]"
     ]
    },
    {
     "name": "stdout",
     "output_type": "stream",
     "text": [
      "(896, 941, 3) (896, 941, 3)\n",
      "\n",
      "0: 896x928 35 leafs, 1101.7ms\n",
      "Speed: 21.1ms preprocess, 1101.7ms inference, 36.3ms postprocess per image at shape (1, 3, 896, 928)\n",
      "35 32 4\n"
     ]
    },
    {
     "name": "stderr",
     "output_type": "stream",
     "text": [
      " 16%|█▌        | 11/68 [02:30<10:45, 11.32s/it]"
     ]
    },
    {
     "name": "stdout",
     "output_type": "stream",
     "text": [
      "(896, 941, 3) (896, 941, 3)\n",
      "\n",
      "0: 896x928 42 leafs, 1107.4ms\n",
      "Speed: 23.7ms preprocess, 1107.4ms inference, 39.0ms postprocess per image at shape (1, 3, 896, 928)\n",
      "42 35 13\n"
     ]
    },
    {
     "name": "stderr",
     "output_type": "stream",
     "text": [
      " 18%|█▊        | 12/68 [02:41<10:34, 11.33s/it]"
     ]
    },
    {
     "name": "stdout",
     "output_type": "stream",
     "text": [
      "(896, 941, 3) (896, 941, 3)\n",
      "\n",
      "0: 896x928 34 leafs, 1151.2ms\n",
      "Speed: 19.0ms preprocess, 1151.2ms inference, 33.5ms postprocess per image at shape (1, 3, 896, 928)\n",
      "34 31 5\n"
     ]
    },
    {
     "name": "stderr",
     "output_type": "stream",
     "text": [
      " 19%|█▉        | 13/68 [02:51<09:55, 10.82s/it]"
     ]
    },
    {
     "name": "stdout",
     "output_type": "stream",
     "text": [
      "(896, 941, 3) (896, 941, 3)\n",
      "\n",
      "0: 896x928 37 leafs, 1185.4ms\n",
      "Speed: 20.0ms preprocess, 1185.4ms inference, 36.9ms postprocess per image at shape (1, 3, 896, 928)\n",
      "37 33 6\n"
     ]
    },
    {
     "name": "stderr",
     "output_type": "stream",
     "text": [
      " 21%|██        | 14/68 [03:02<09:48, 10.90s/it]"
     ]
    },
    {
     "name": "stdout",
     "output_type": "stream",
     "text": [
      "(896, 941, 3) (896, 941, 3)\n",
      "\n",
      "0: 896x928 41 leafs, 1112.8ms\n",
      "Speed: 24.0ms preprocess, 1112.8ms inference, 38.0ms postprocess per image at shape (1, 3, 896, 928)\n",
      "41 36 7\n"
     ]
    },
    {
     "name": "stderr",
     "output_type": "stream",
     "text": [
      " 22%|██▏       | 15/68 [03:13<09:49, 11.12s/it]"
     ]
    },
    {
     "name": "stdout",
     "output_type": "stream",
     "text": [
      "(896, 941, 3) (896, 941, 3)\n",
      "\n",
      "0: 896x928 41 leafs, 1166.3ms\n",
      "Speed: 21.2ms preprocess, 1166.3ms inference, 55.7ms postprocess per image at shape (1, 3, 896, 928)\n",
      "41 37 7\n"
     ]
    },
    {
     "name": "stderr",
     "output_type": "stream",
     "text": [
      " 24%|██▎       | 16/68 [03:27<10:16, 11.86s/it]"
     ]
    },
    {
     "name": "stdout",
     "output_type": "stream",
     "text": [
      "(896, 941, 3) (896, 941, 3)\n",
      "\n",
      "0: 896x928 25 leafs, 1174.6ms\n",
      "Speed: 21.0ms preprocess, 1174.6ms inference, 28.0ms postprocess per image at shape (1, 3, 896, 928)\n",
      "25 22 5\n"
     ]
    },
    {
     "name": "stderr",
     "output_type": "stream",
     "text": [
      " 25%|██▌       | 17/68 [03:35<09:01, 10.61s/it]"
     ]
    },
    {
     "name": "stdout",
     "output_type": "stream",
     "text": [
      "(896, 941, 3) (896, 941, 3)\n",
      "\n",
      "0: 896x928 40 leafs, 1107.0ms\n",
      "Speed: 24.0ms preprocess, 1107.0ms inference, 37.7ms postprocess per image at shape (1, 3, 896, 928)\n",
      "40 38 3\n"
     ]
    },
    {
     "name": "stderr",
     "output_type": "stream",
     "text": [
      " 26%|██▋       | 18/68 [03:48<09:26, 11.34s/it]"
     ]
    },
    {
     "name": "stdout",
     "output_type": "stream",
     "text": [
      "(896, 941, 3) (896, 941, 3)\n",
      "\n",
      "0: 896x928 27 leafs, 1124.8ms\n",
      "Speed: 24.0ms preprocess, 1124.8ms inference, 32.0ms postprocess per image at shape (1, 3, 896, 928)\n",
      "27 25 2\n"
     ]
    },
    {
     "name": "stderr",
     "output_type": "stream",
     "text": [
      " 28%|██▊       | 19/68 [03:58<08:57, 10.96s/it]"
     ]
    },
    {
     "name": "stdout",
     "output_type": "stream",
     "text": [
      "(896, 941, 3) (896, 941, 3)\n",
      "\n",
      "0: 896x928 26 leafs, 1170.8ms\n",
      "Speed: 25.5ms preprocess, 1170.8ms inference, 28.0ms postprocess per image at shape (1, 3, 896, 928)\n",
      "26 23 3\n"
     ]
    },
    {
     "name": "stderr",
     "output_type": "stream",
     "text": [
      " 29%|██▉       | 20/68 [04:07<08:15, 10.32s/it]"
     ]
    },
    {
     "name": "stdout",
     "output_type": "stream",
     "text": [
      "(896, 941, 3) (896, 941, 3)\n",
      "\n",
      "0: 896x928 29 leafs, 1093.0ms\n",
      "Speed: 20.0ms preprocess, 1093.0ms inference, 28.3ms postprocess per image at shape (1, 3, 896, 928)\n",
      "29 27 2\n"
     ]
    },
    {
     "name": "stderr",
     "output_type": "stream",
     "text": [
      " 31%|███       | 21/68 [04:17<08:02, 10.26s/it]"
     ]
    },
    {
     "name": "stdout",
     "output_type": "stream",
     "text": [
      "(896, 941, 3) (896, 941, 3)\n",
      "\n",
      "0: 896x928 27 leafs, 1114.1ms\n",
      "Speed: 23.0ms preprocess, 1114.1ms inference, 27.0ms postprocess per image at shape (1, 3, 896, 928)\n",
      "27 25 4\n"
     ]
    },
    {
     "name": "stderr",
     "output_type": "stream",
     "text": [
      " 32%|███▏      | 22/68 [04:28<08:07, 10.60s/it]"
     ]
    },
    {
     "name": "stdout",
     "output_type": "stream",
     "text": [
      "(896, 941, 3) (896, 941, 3)\n",
      "\n",
      "0: 896x928 34 leafs, 1116.4ms\n",
      "Speed: 25.0ms preprocess, 1116.4ms inference, 33.2ms postprocess per image at shape (1, 3, 896, 928)\n",
      "34 31 3\n"
     ]
    },
    {
     "name": "stderr",
     "output_type": "stream",
     "text": [
      " 34%|███▍      | 23/68 [04:41<08:32, 11.39s/it]"
     ]
    },
    {
     "name": "stdout",
     "output_type": "stream",
     "text": [
      "(896, 941, 3) (896, 941, 3)\n",
      "\n",
      "0: 896x928 42 leafs, 1103.0ms\n",
      "Speed: 18.4ms preprocess, 1103.0ms inference, 39.1ms postprocess per image at shape (1, 3, 896, 928)\n",
      "42 36 8\n"
     ]
    },
    {
     "name": "stderr",
     "output_type": "stream",
     "text": [
      " 35%|███▌      | 24/68 [04:56<09:04, 12.38s/it]"
     ]
    },
    {
     "name": "stdout",
     "output_type": "stream",
     "text": [
      "(896, 941, 3) (896, 941, 3)\n",
      "\n",
      "0: 896x928 45 leafs, 1128.0ms\n",
      "Speed: 29.0ms preprocess, 1128.0ms inference, 42.6ms postprocess per image at shape (1, 3, 896, 928)\n",
      "45 39 12\n"
     ]
    },
    {
     "name": "stderr",
     "output_type": "stream",
     "text": [
      " 37%|███▋      | 25/68 [05:12<09:40, 13.49s/it]"
     ]
    },
    {
     "name": "stdout",
     "output_type": "stream",
     "text": [
      "(896, 941, 3) (896, 941, 3)\n",
      "\n",
      "0: 896x928 41 leafs, 1166.5ms\n",
      "Speed: 26.0ms preprocess, 1166.5ms inference, 38.5ms postprocess per image at shape (1, 3, 896, 928)\n",
      "41 38 6\n"
     ]
    },
    {
     "name": "stderr",
     "output_type": "stream",
     "text": [
      " 38%|███▊      | 26/68 [05:26<09:28, 13.54s/it]"
     ]
    },
    {
     "name": "stdout",
     "output_type": "stream",
     "text": [
      "(896, 941, 3) (896, 941, 3)\n",
      "\n",
      "0: 896x928 21 leafs, 1102.9ms\n",
      "Speed: 24.0ms preprocess, 1102.9ms inference, 21.0ms postprocess per image at shape (1, 3, 896, 928)\n",
      "21 18 4\n"
     ]
    },
    {
     "name": "stderr",
     "output_type": "stream",
     "text": [
      " 40%|███▉      | 27/68 [05:34<08:09, 11.93s/it]"
     ]
    },
    {
     "name": "stdout",
     "output_type": "stream",
     "text": [
      "(896, 941, 3) (896, 941, 3)\n",
      "\n",
      "0: 896x928 15 leafs, 1087.4ms\n",
      "Speed: 25.0ms preprocess, 1087.4ms inference, 81.2ms postprocess per image at shape (1, 3, 896, 928)\n",
      "15 14 2\n"
     ]
    },
    {
     "name": "stderr",
     "output_type": "stream",
     "text": [
      " 41%|████      | 28/68 [05:41<06:56, 10.42s/it]"
     ]
    },
    {
     "name": "stdout",
     "output_type": "stream",
     "text": [
      "(896, 941, 3) (896, 941, 3)\n",
      "\n",
      "0: 896x928 18 leafs, 1178.4ms\n",
      "Speed: 21.8ms preprocess, 1178.4ms inference, 19.0ms postprocess per image at shape (1, 3, 896, 928)\n",
      "18 17 1\n"
     ]
    },
    {
     "name": "stderr",
     "output_type": "stream",
     "text": [
      " 43%|████▎     | 29/68 [05:48<06:13,  9.57s/it]"
     ]
    },
    {
     "name": "stdout",
     "output_type": "stream",
     "text": [
      "(896, 941, 3) (896, 941, 3)\n",
      "\n",
      "0: 896x928 23 leafs, 1122.2ms\n",
      "Speed: 21.9ms preprocess, 1122.2ms inference, 23.4ms postprocess per image at shape (1, 3, 896, 928)\n",
      "23 20 5\n"
     ]
    },
    {
     "name": "stderr",
     "output_type": "stream",
     "text": [
      " 44%|████▍     | 30/68 [05:57<05:49,  9.21s/it]"
     ]
    },
    {
     "name": "stdout",
     "output_type": "stream",
     "text": [
      "(896, 941, 3) (896, 941, 3)\n",
      "\n",
      "0: 896x928 10 leafs, 1113.4ms\n",
      "Speed: 21.0ms preprocess, 1113.4ms inference, 12.0ms postprocess per image at shape (1, 3, 896, 928)\n",
      "10 9 1\n"
     ]
    },
    {
     "name": "stderr",
     "output_type": "stream",
     "text": [
      " 46%|████▌     | 31/68 [06:03<05:07,  8.32s/it]"
     ]
    },
    {
     "name": "stdout",
     "output_type": "stream",
     "text": [
      "(896, 941, 3) (896, 941, 3)\n",
      "\n",
      "0: 896x928 28 leafs, 1071.8ms\n",
      "Speed: 22.0ms preprocess, 1071.8ms inference, 30.0ms postprocess per image at shape (1, 3, 896, 928)\n",
      "28 24 8\n"
     ]
    },
    {
     "name": "stderr",
     "output_type": "stream",
     "text": [
      " 47%|████▋     | 32/68 [06:13<05:14,  8.74s/it]"
     ]
    },
    {
     "name": "stdout",
     "output_type": "stream",
     "text": [
      "(896, 941, 3) (896, 941, 3)\n",
      "\n",
      "0: 896x928 28 leafs, 1173.4ms\n",
      "Speed: 19.5ms preprocess, 1173.4ms inference, 28.2ms postprocess per image at shape (1, 3, 896, 928)\n",
      "28 25 3\n"
     ]
    },
    {
     "name": "stderr",
     "output_type": "stream",
     "text": [
      " 49%|████▊     | 33/68 [06:23<05:18,  9.11s/it]"
     ]
    },
    {
     "name": "stdout",
     "output_type": "stream",
     "text": [
      "(896, 941, 3) (896, 941, 3)\n",
      "\n",
      "0: 896x928 30 leafs, 1192.8ms\n",
      "Speed: 22.0ms preprocess, 1192.8ms inference, 29.2ms postprocess per image at shape (1, 3, 896, 928)\n",
      "30 25 7\n"
     ]
    },
    {
     "name": "stderr",
     "output_type": "stream",
     "text": [
      " 50%|█████     | 34/68 [06:33<05:26,  9.60s/it]"
     ]
    },
    {
     "name": "stdout",
     "output_type": "stream",
     "text": [
      "(896, 941, 3) (896, 941, 3)\n",
      "\n",
      "0: 896x928 15 leafs, 1200.8ms\n",
      "Speed: 23.9ms preprocess, 1200.8ms inference, 22.0ms postprocess per image at shape (1, 3, 896, 928)\n",
      "15 13 4\n"
     ]
    },
    {
     "name": "stderr",
     "output_type": "stream",
     "text": [
      " 51%|█████▏    | 35/68 [06:41<05:01,  9.13s/it]"
     ]
    },
    {
     "name": "stdout",
     "output_type": "stream",
     "text": [
      "(896, 941, 3) (896, 941, 3)\n",
      "\n",
      "0: 896x928 12 leafs, 1169.9ms\n",
      "Speed: 21.3ms preprocess, 1169.9ms inference, 13.0ms postprocess per image at shape (1, 3, 896, 928)\n",
      "12 10 3\n"
     ]
    },
    {
     "name": "stderr",
     "output_type": "stream",
     "text": [
      " 53%|█████▎    | 36/68 [06:49<04:34,  8.58s/it]"
     ]
    },
    {
     "name": "stdout",
     "output_type": "stream",
     "text": [
      "(896, 941, 3) (896, 941, 3)\n",
      "\n",
      "0: 896x928 16 leafs, 1193.7ms\n",
      "Speed: 20.6ms preprocess, 1193.7ms inference, 17.6ms postprocess per image at shape (1, 3, 896, 928)\n",
      "16 15 2\n"
     ]
    },
    {
     "name": "stderr",
     "output_type": "stream",
     "text": [
      " 54%|█████▍    | 37/68 [06:57<04:21,  8.44s/it]"
     ]
    },
    {
     "name": "stdout",
     "output_type": "stream",
     "text": [
      "(896, 941, 3) (896, 941, 3)\n",
      "\n",
      "0: 896x928 14 leafs, 1108.2ms\n",
      "Speed: 21.3ms preprocess, 1108.2ms inference, 17.1ms postprocess per image at shape (1, 3, 896, 928)\n",
      "14 14 0\n"
     ]
    },
    {
     "name": "stderr",
     "output_type": "stream",
     "text": [
      " 56%|█████▌    | 38/68 [07:05<04:10,  8.33s/it]"
     ]
    },
    {
     "name": "stdout",
     "output_type": "stream",
     "text": [
      "(896, 941, 3) (896, 941, 3)\n",
      "\n",
      "0: 896x928 17 leafs, 1085.9ms\n",
      "Speed: 24.0ms preprocess, 1085.9ms inference, 17.5ms postprocess per image at shape (1, 3, 896, 928)\n",
      "17 17 0\n"
     ]
    },
    {
     "name": "stderr",
     "output_type": "stream",
     "text": [
      " 57%|█████▋    | 39/68 [07:13<04:03,  8.39s/it]"
     ]
    },
    {
     "name": "stdout",
     "output_type": "stream",
     "text": [
      "(896, 941, 3) (896, 941, 3)\n",
      "\n",
      "0: 896x928 20 leafs, 1199.9ms\n",
      "Speed: 22.0ms preprocess, 1199.9ms inference, 20.6ms postprocess per image at shape (1, 3, 896, 928)\n",
      "20 18 6\n"
     ]
    },
    {
     "name": "stderr",
     "output_type": "stream",
     "text": [
      " 59%|█████▉    | 40/68 [07:23<04:02,  8.66s/it]"
     ]
    },
    {
     "name": "stdout",
     "output_type": "stream",
     "text": [
      "(896, 941, 3) (896, 941, 3)\n",
      "\n",
      "0: 896x928 29 leafs, 1175.8ms\n",
      "Speed: 19.5ms preprocess, 1175.8ms inference, 29.0ms postprocess per image at shape (1, 3, 896, 928)\n",
      "29 26 5\n"
     ]
    },
    {
     "name": "stderr",
     "output_type": "stream",
     "text": [
      " 60%|██████    | 41/68 [07:34<04:17,  9.54s/it]"
     ]
    },
    {
     "name": "stdout",
     "output_type": "stream",
     "text": [
      "(896, 941, 3) (896, 941, 3)\n",
      "\n",
      "0: 896x928 24 leafs, 1084.0ms\n",
      "Speed: 25.0ms preprocess, 1084.0ms inference, 24.0ms postprocess per image at shape (1, 3, 896, 928)\n",
      "24 23 1\n"
     ]
    },
    {
     "name": "stderr",
     "output_type": "stream",
     "text": [
      " 62%|██████▏   | 42/68 [07:45<04:18,  9.95s/it]"
     ]
    },
    {
     "name": "stdout",
     "output_type": "stream",
     "text": [
      "(896, 941, 3) (896, 941, 3)\n",
      "\n",
      "0: 896x928 25 leafs, 1174.9ms\n",
      "Speed: 21.0ms preprocess, 1174.9ms inference, 24.0ms postprocess per image at shape (1, 3, 896, 928)\n",
      "25 21 7\n"
     ]
    },
    {
     "name": "stderr",
     "output_type": "stream",
     "text": [
      " 63%|██████▎   | 43/68 [07:56<04:15, 10.21s/it]"
     ]
    },
    {
     "name": "stdout",
     "output_type": "stream",
     "text": [
      "(896, 941, 3) (896, 941, 3)\n",
      "\n",
      "0: 896x928 38 leafs, 1080.0ms\n",
      "Speed: 19.0ms preprocess, 1080.0ms inference, 37.0ms postprocess per image at shape (1, 3, 896, 928)\n",
      "38 31 11\n"
     ]
    },
    {
     "name": "stderr",
     "output_type": "stream",
     "text": [
      " 65%|██████▍   | 44/68 [08:11<04:36, 11.51s/it]"
     ]
    },
    {
     "name": "stdout",
     "output_type": "stream",
     "text": [
      "(896, 941, 3) (896, 941, 3)\n",
      "\n",
      "0: 896x928 39 leafs, 1085.5ms\n",
      "Speed: 25.0ms preprocess, 1085.5ms inference, 39.0ms postprocess per image at shape (1, 3, 896, 928)\n",
      "39 33 10\n"
     ]
    },
    {
     "name": "stderr",
     "output_type": "stream",
     "text": [
      " 66%|██████▌   | 45/68 [08:26<04:53, 12.77s/it]"
     ]
    },
    {
     "name": "stdout",
     "output_type": "stream",
     "text": [
      "(896, 941, 3) (896, 941, 3)\n",
      "\n",
      "0: 896x928 46 leafs, 1088.9ms\n",
      "Speed: 24.1ms preprocess, 1088.9ms inference, 43.0ms postprocess per image at shape (1, 3, 896, 928)\n",
      "46 37 18\n"
     ]
    },
    {
     "name": "stderr",
     "output_type": "stream",
     "text": [
      " 68%|██████▊   | 46/68 [08:45<05:20, 14.55s/it]"
     ]
    },
    {
     "name": "stdout",
     "output_type": "stream",
     "text": [
      "(896, 941, 3) (896, 941, 3)\n",
      "\n",
      "0: 896x928 49 leafs, 1070.6ms\n",
      "Speed: 24.0ms preprocess, 1070.6ms inference, 47.2ms postprocess per image at shape (1, 3, 896, 928)\n",
      "49 39 20\n"
     ]
    },
    {
     "name": "stderr",
     "output_type": "stream",
     "text": [
      " 69%|██████▉   | 47/68 [09:04<05:35, 15.99s/it]"
     ]
    },
    {
     "name": "stdout",
     "output_type": "stream",
     "text": [
      "(896, 941, 3) (896, 941, 3)\n",
      "\n",
      "0: 896x928 49 leafs, 1112.9ms\n",
      "Speed: 22.0ms preprocess, 1112.9ms inference, 47.0ms postprocess per image at shape (1, 3, 896, 928)\n",
      "49 42 11\n"
     ]
    },
    {
     "name": "stderr",
     "output_type": "stream",
     "text": [
      " 71%|███████   | 48/68 [09:24<05:40, 17.05s/it]"
     ]
    },
    {
     "name": "stdout",
     "output_type": "stream",
     "text": [
      "(896, 941, 3) (896, 941, 3)\n",
      "\n",
      "0: 896x928 56 leafs, 1188.3ms\n",
      "Speed: 27.2ms preprocess, 1188.3ms inference, 50.9ms postprocess per image at shape (1, 3, 896, 928)\n",
      "56 49 10\n"
     ]
    },
    {
     "name": "stderr",
     "output_type": "stream",
     "text": [
      " 72%|███████▏  | 49/68 [09:47<05:59, 18.92s/it]"
     ]
    },
    {
     "name": "stdout",
     "output_type": "stream",
     "text": [
      "(896, 941, 3) (896, 941, 3)\n",
      "\n",
      "0: 896x928 79 leafs, 1105.0ms\n",
      "Speed: 24.0ms preprocess, 1105.0ms inference, 145.0ms postprocess per image at shape (1, 3, 896, 928)\n",
      "79 68 16\n"
     ]
    },
    {
     "name": "stderr",
     "output_type": "stream",
     "text": [
      " 74%|███████▎  | 50/68 [10:25<07:23, 24.66s/it]"
     ]
    },
    {
     "name": "stdout",
     "output_type": "stream",
     "text": [
      "(896, 941, 3) (896, 941, 3)\n",
      "\n",
      "0: 896x928 59 leafs, 1084.6ms\n",
      "Speed: 21.9ms preprocess, 1084.6ms inference, 56.2ms postprocess per image at shape (1, 3, 896, 928)\n",
      "59 50 13\n"
     ]
    },
    {
     "name": "stderr",
     "output_type": "stream",
     "text": [
      " 75%|███████▌  | 51/68 [10:50<07:00, 24.73s/it]"
     ]
    },
    {
     "name": "stdout",
     "output_type": "stream",
     "text": [
      "(896, 941, 3) (896, 941, 3)\n",
      "\n",
      "0: 896x928 60 leafs, 1076.3ms\n",
      "Speed: 23.1ms preprocess, 1076.3ms inference, 59.0ms postprocess per image at shape (1, 3, 896, 928)\n",
      "60 51 13\n"
     ]
    },
    {
     "name": "stderr",
     "output_type": "stream",
     "text": [
      " 76%|███████▋  | 52/68 [11:17<06:47, 25.49s/it]"
     ]
    },
    {
     "name": "stdout",
     "output_type": "stream",
     "text": [
      "(896, 941, 3) (896, 941, 3)\n",
      "\n",
      "0: 896x928 42 leafs, 1106.7ms\n",
      "Speed: 20.0ms preprocess, 1106.7ms inference, 45.2ms postprocess per image at shape (1, 3, 896, 928)\n",
      "42 38 6\n"
     ]
    },
    {
     "name": "stderr",
     "output_type": "stream",
     "text": [
      " 78%|███████▊  | 53/68 [11:34<05:41, 22.77s/it]"
     ]
    },
    {
     "name": "stdout",
     "output_type": "stream",
     "text": [
      "(896, 941, 3) (896, 941, 3)\n",
      "\n",
      "0: 896x928 69 leafs, 1175.3ms\n",
      "Speed: 21.0ms preprocess, 1175.3ms inference, 63.0ms postprocess per image at shape (1, 3, 896, 928)\n",
      "69 62 8\n"
     ]
    },
    {
     "name": "stderr",
     "output_type": "stream",
     "text": [
      " 79%|███████▉  | 54/68 [12:00<05:33, 23.84s/it]"
     ]
    },
    {
     "name": "stdout",
     "output_type": "stream",
     "text": [
      "(896, 941, 3) (896, 941, 3)\n",
      "\n",
      "0: 896x928 48 leafs, 1199.3ms\n",
      "Speed: 21.0ms preprocess, 1199.3ms inference, 45.0ms postprocess per image at shape (1, 3, 896, 928)\n",
      "48 44 5\n"
     ]
    },
    {
     "name": "stderr",
     "output_type": "stream",
     "text": [
      " 81%|████████  | 55/68 [12:18<04:46, 22.05s/it]"
     ]
    },
    {
     "name": "stdout",
     "output_type": "stream",
     "text": [
      "(896, 941, 3) (896, 941, 3)\n",
      "\n",
      "0: 896x928 31 leafs, 1114.4ms\n",
      "Speed: 19.0ms preprocess, 1114.4ms inference, 30.0ms postprocess per image at shape (1, 3, 896, 928)\n",
      "31 29 3\n"
     ]
    },
    {
     "name": "stderr",
     "output_type": "stream",
     "text": [
      " 82%|████████▏ | 56/68 [12:30<03:49, 19.12s/it]"
     ]
    },
    {
     "name": "stdout",
     "output_type": "stream",
     "text": [
      "(896, 941, 3) (896, 941, 3)\n",
      "\n",
      "0: 896x928 40 leafs, 1169.0ms\n",
      "Speed: 20.0ms preprocess, 1169.0ms inference, 37.0ms postprocess per image at shape (1, 3, 896, 928)\n",
      "40 34 8\n"
     ]
    },
    {
     "name": "stderr",
     "output_type": "stream",
     "text": [
      " 84%|████████▍ | 57/68 [12:45<03:16, 17.88s/it]"
     ]
    },
    {
     "name": "stdout",
     "output_type": "stream",
     "text": [
      "(896, 941, 3) (896, 941, 3)\n",
      "\n",
      "0: 896x928 57 leafs, 1176.3ms\n",
      "Speed: 20.0ms preprocess, 1176.3ms inference, 53.0ms postprocess per image at shape (1, 3, 896, 928)\n",
      "57 47 18\n"
     ]
    },
    {
     "name": "stderr",
     "output_type": "stream",
     "text": [
      " 85%|████████▌ | 58/68 [13:07<03:09, 18.90s/it]"
     ]
    },
    {
     "name": "stdout",
     "output_type": "stream",
     "text": [
      "(896, 941, 3) (896, 941, 3)\n",
      "\n",
      "0: 896x928 55 leafs, 1154.3ms\n",
      "Speed: 19.0ms preprocess, 1154.3ms inference, 51.9ms postprocess per image at shape (1, 3, 896, 928)\n",
      "55 50 8\n"
     ]
    },
    {
     "name": "stderr",
     "output_type": "stream",
     "text": [
      " 87%|████████▋ | 59/68 [13:28<02:57, 19.72s/it]"
     ]
    },
    {
     "name": "stdout",
     "output_type": "stream",
     "text": [
      "(896, 941, 3) (896, 941, 3)\n",
      "\n",
      "0: 896x928 85 leafs, 1179.3ms\n",
      "Speed: 21.0ms preprocess, 1179.3ms inference, 103.9ms postprocess per image at shape (1, 3, 896, 928)\n",
      "85 67 31\n"
     ]
    },
    {
     "name": "stderr",
     "output_type": "stream",
     "text": [
      " 88%|████████▊ | 60/68 [14:05<03:18, 24.79s/it]"
     ]
    },
    {
     "name": "stdout",
     "output_type": "stream",
     "text": [
      "(896, 941, 3) (896, 941, 3)\n",
      "\n",
      "0: 896x928 26 leafs, 1175.3ms\n",
      "Speed: 19.0ms preprocess, 1175.3ms inference, 26.0ms postprocess per image at shape (1, 3, 896, 928)\n",
      "26 22 6\n"
     ]
    },
    {
     "name": "stderr",
     "output_type": "stream",
     "text": [
      " 90%|████████▉ | 61/68 [14:17<02:26, 20.97s/it]"
     ]
    },
    {
     "name": "stdout",
     "output_type": "stream",
     "text": [
      "(896, 941, 3) (896, 941, 3)\n",
      "\n",
      "0: 896x928 49 leafs, 1127.4ms\n",
      "Speed: 20.0ms preprocess, 1127.4ms inference, 46.0ms postprocess per image at shape (1, 3, 896, 928)\n",
      "49 48 1\n"
     ]
    },
    {
     "name": "stderr",
     "output_type": "stream",
     "text": [
      " 91%|█████████ | 62/68 [14:36<02:01, 20.28s/it]"
     ]
    },
    {
     "name": "stdout",
     "output_type": "stream",
     "text": [
      "(896, 941, 3) (896, 941, 3)\n",
      "\n",
      "0: 896x928 70 leafs, 1185.3ms\n",
      "Speed: 20.0ms preprocess, 1185.3ms inference, 65.0ms postprocess per image at shape (1, 3, 896, 928)\n",
      "70 61 10\n"
     ]
    },
    {
     "name": "stderr",
     "output_type": "stream",
     "text": [
      " 93%|█████████▎| 63/68 [15:03<01:52, 22.53s/it]"
     ]
    },
    {
     "name": "stdout",
     "output_type": "stream",
     "text": [
      "(896, 941, 3) (896, 941, 3)\n",
      "\n",
      "0: 896x928 41 leafs, 1184.3ms\n",
      "Speed: 19.0ms preprocess, 1184.3ms inference, 39.0ms postprocess per image at shape (1, 3, 896, 928)\n",
      "41 39 2\n"
     ]
    },
    {
     "name": "stderr",
     "output_type": "stream",
     "text": [
      " 94%|█████████▍| 64/68 [15:20<01:22, 20.66s/it]"
     ]
    },
    {
     "name": "stdout",
     "output_type": "stream",
     "text": [
      "(896, 941, 3) (896, 941, 3)\n",
      "\n",
      "0: 896x928 42 leafs, 1125.4ms\n",
      "Speed: 22.0ms preprocess, 1125.4ms inference, 40.0ms postprocess per image at shape (1, 3, 896, 928)\n",
      "42 37 6\n"
     ]
    },
    {
     "name": "stderr",
     "output_type": "stream",
     "text": [
      " 96%|█████████▌| 65/68 [15:37<00:58, 19.65s/it]"
     ]
    },
    {
     "name": "stdout",
     "output_type": "stream",
     "text": [
      "(896, 941, 3) (896, 941, 3)\n",
      "\n",
      "0: 896x928 98 leafs, 1142.4ms\n",
      "Speed: 19.0ms preprocess, 1142.4ms inference, 117.9ms postprocess per image at shape (1, 3, 896, 928)\n",
      "98 80 23\n"
     ]
    },
    {
     "name": "stderr",
     "output_type": "stream",
     "text": [
      " 97%|█████████▋| 66/68 [16:24<00:55, 27.82s/it]"
     ]
    },
    {
     "name": "stdout",
     "output_type": "stream",
     "text": [
      "(896, 941, 3) (896, 941, 3)\n",
      "\n",
      "0: 896x928 102 leafs, 1110.4ms\n",
      "Speed: 22.0ms preprocess, 1110.4ms inference, 123.9ms postprocess per image at shape (1, 3, 896, 928)\n",
      "102 86 25\n"
     ]
    },
    {
     "name": "stderr",
     "output_type": "stream",
     "text": [
      " 99%|█████████▊| 67/68 [17:13<00:34, 34.28s/it]"
     ]
    },
    {
     "name": "stdout",
     "output_type": "stream",
     "text": [
      "(896, 941, 3) (896, 941, 3)\n",
      "\n",
      "0: 896x928 89 leafs, 1103.4ms\n",
      "Speed: 23.0ms preprocess, 1103.4ms inference, 81.0ms postprocess per image at shape (1, 3, 896, 928)\n",
      "89 78 22\n"
     ]
    },
    {
     "name": "stderr",
     "output_type": "stream",
     "text": [
      "100%|██████████| 68/68 [17:53<00:00, 15.79s/it]"
     ]
    },
    {
     "name": "stdout",
     "output_type": "stream",
     "text": [
      "(896, 941, 3) (896, 941, 3)\n"
     ]
    },
    {
     "name": "stderr",
     "output_type": "stream",
     "text": [
      "\n"
     ]
    },
    {
     "data": {
      "image/png": "[encoded data removed]",
      "text/plain": [
       "<Figure size 640x480 with 1 Axes>"
      ]
     },
     "metadata": {},
     "output_type": "display_data"
    }
   ],
   "source": [
    "for img_name in tqdm(test_imgs):\n",
    "    \n",
    "    image_path = os.path.join(test_data_folder,img_name)\n",
    "    img = cv2.imread(image_path)\n",
    "    \n",
    "\n",
    "    croped_image, pads = crop_image(img, model_output_shape)\n",
    "\n",
    "    results1 =  model.predict(croped_image)\n",
    "    masks = results1[0].masks.data\n",
    "    mask_cpu = masks.cpu().numpy()\n",
    "\n",
    "    masks_resized = np.array([ np.pad(mask, pads, 'constant', constant_values=0) for mask in mask_cpu])\n",
    "\n",
    "    masks_processed, removed = remove_small_overlapping_masks(masks_resized, overlap_threshold=0.8)\n",
    "    predicted_image = np.zeros(masks_processed.shape[1:3])\n",
    "    predicted_image =  combine_masks(masks_processed)\n",
    "    \n",
    "    plt.imshow(predicted_image)\n",
    "    plt.savefig(os.path.join(Output_folder,img_name))\n",
    "    print(img.shape, predicted_image.shape )\n",
    "\n",
    "    "
   ]
  },
  {
   "cell_type": "code",
   "execution_count": null,
   "metadata": {},
   "outputs": [],
   "source": []
  }
 ],
 "metadata": {
  "kernelspec": {
   "display_name": "base",
   "language": "python",
   "name": "python3"
  },
  "language_info": {
   "codemirror_mode": {
    "name": "ipython",
    "version": 3
   },
   "file_extension": ".py",
   "mimetype": "text/x-python",
   "name": "python",
   "nbconvert_exporter": "python",
   "pygments_lexer": "ipython3",
   "version": "3.10.11"
  }
 },
 "nbformat": 4,
 "nbformat_minor": 2
}
